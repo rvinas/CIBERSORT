{
  "nbformat": 4,
  "nbformat_minor": 0,
  "metadata": {
    "colab": {
      "name": "CD-VAE.ipynb",
      "provenance": [],
      "collapsed_sections": [],
      "authorship_tag": "ABX9TyMbdc6nhEggz9dVVFZBRZF8",
      "include_colab_link": true
    },
    "kernelspec": {
      "name": "python3",
      "display_name": "Python 3"
    },
    "accelerator": "GPU"
  },
  "cells": [
    {
      "cell_type": "markdown",
      "metadata": {
        "id": "view-in-github",
        "colab_type": "text"
      },
      "source": [
        "<a href=\"https://colab.research.google.com/github/rvinas/CIBERSORT/blob/master/CD_VAE.ipynb\" target=\"_parent\"><img src=\"https://colab.research.google.com/assets/colab-badge.svg\" alt=\"Open In Colab\"/></a>"
      ]
    },
    {
      "cell_type": "code",
      "metadata": {
        "id": "olwORgMViS-9",
        "colab_type": "code",
        "outputId": "7fab3dde-379f-434c-f982-9ea4d0214047",
        "colab": {
          "base_uri": "https://localhost:8080/",
          "height": 1000
        }
      },
      "source": [
        "!pip install tensorflow-probability==0.8.0rc0\n",
        "!pip install cdt"
      ],
      "execution_count": 1,
      "outputs": [
        {
          "output_type": "stream",
          "text": [
            "Collecting tensorflow-probability==0.8.0rc0\n",
            "\u001b[?25l  Downloading https://files.pythonhosted.org/packages/b2/63/f54ce32063abaa682d779e44b49eb63fcf63c2422f978842fdeda794337d/tensorflow_probability-0.8.0rc0-py2.py3-none-any.whl (2.5MB)\n",
            "\u001b[K     |████████████████████████████████| 2.5MB 9.0MB/s \n",
            "\u001b[?25hRequirement already satisfied: decorator in /usr/local/lib/python3.6/dist-packages (from tensorflow-probability==0.8.0rc0) (4.4.1)\n",
            "Requirement already satisfied: numpy>=1.13.3 in /usr/local/lib/python3.6/dist-packages (from tensorflow-probability==0.8.0rc0) (1.17.5)\n",
            "Collecting cloudpickle==1.1.1\n",
            "  Downloading https://files.pythonhosted.org/packages/24/fb/4f92f8c0f40a0d728b4f3d5ec5ff84353e705d8ff5e3e447620ea98b06bd/cloudpickle-1.1.1-py2.py3-none-any.whl\n",
            "Requirement already satisfied: six>=1.10.0 in /usr/local/lib/python3.6/dist-packages (from tensorflow-probability==0.8.0rc0) (1.12.0)\n",
            "\u001b[31mERROR: tensor2tensor 1.14.1 has requirement tensorflow-probability==0.7.0, but you'll have tensorflow-probability 0.8.0rc0 which is incompatible.\u001b[0m\n",
            "\u001b[31mERROR: gym 0.15.4 has requirement cloudpickle~=1.2.0, but you'll have cloudpickle 1.1.1 which is incompatible.\u001b[0m\n",
            "Installing collected packages: cloudpickle, tensorflow-probability\n",
            "  Found existing installation: cloudpickle 1.2.2\n",
            "    Uninstalling cloudpickle-1.2.2:\n",
            "      Successfully uninstalled cloudpickle-1.2.2\n",
            "  Found existing installation: tensorflow-probability 0.7.0\n",
            "    Uninstalling tensorflow-probability-0.7.0:\n",
            "      Successfully uninstalled tensorflow-probability-0.7.0\n",
            "Successfully installed cloudpickle-1.1.1 tensorflow-probability-0.8.0rc0\n"
          ],
          "name": "stdout"
        },
        {
          "output_type": "display_data",
          "data": {
            "application/vnd.colab-display-data+json": {
              "pip_warning": {
                "packages": [
                  "cloudpickle"
                ]
              }
            }
          },
          "metadata": {
            "tags": []
          }
        },
        {
          "output_type": "stream",
          "text": [
            "Collecting cdt\n",
            "\u001b[?25l  Downloading https://files.pythonhosted.org/packages/82/58/003e6c65fd08980e2705fbac10b09c658a34f983e722148a56c6dae98186/cdt-0.5.16-py3-none-any.whl (917kB)\n",
            "\r\u001b[K     |▍                               | 10kB 30.6MB/s eta 0:00:01\r\u001b[K     |▊                               | 20kB 6.1MB/s eta 0:00:01\r\u001b[K     |█                               | 30kB 8.7MB/s eta 0:00:01\r\u001b[K     |█▍                              | 40kB 5.8MB/s eta 0:00:01\r\u001b[K     |█▉                              | 51kB 7.0MB/s eta 0:00:01\r\u001b[K     |██▏                             | 61kB 8.3MB/s eta 0:00:01\r\u001b[K     |██▌                             | 71kB 9.4MB/s eta 0:00:01\r\u001b[K     |██▉                             | 81kB 10.5MB/s eta 0:00:01\r\u001b[K     |███▏                            | 92kB 11.6MB/s eta 0:00:01\r\u001b[K     |███▋                            | 102kB 9.5MB/s eta 0:00:01\r\u001b[K     |████                            | 112kB 9.5MB/s eta 0:00:01\r\u001b[K     |████▎                           | 122kB 9.5MB/s eta 0:00:01\r\u001b[K     |████▋                           | 133kB 9.5MB/s eta 0:00:01\r\u001b[K     |█████                           | 143kB 9.5MB/s eta 0:00:01\r\u001b[K     |█████▍                          | 153kB 9.5MB/s eta 0:00:01\r\u001b[K     |█████▊                          | 163kB 9.5MB/s eta 0:00:01\r\u001b[K     |██████                          | 174kB 9.5MB/s eta 0:00:01\r\u001b[K     |██████▍                         | 184kB 9.5MB/s eta 0:00:01\r\u001b[K     |██████▉                         | 194kB 9.5MB/s eta 0:00:01\r\u001b[K     |███████▏                        | 204kB 9.5MB/s eta 0:00:01\r\u001b[K     |███████▌                        | 215kB 9.5MB/s eta 0:00:01\r\u001b[K     |███████▉                        | 225kB 9.5MB/s eta 0:00:01\r\u001b[K     |████████▏                       | 235kB 9.5MB/s eta 0:00:01\r\u001b[K     |████████▋                       | 245kB 9.5MB/s eta 0:00:01\r\u001b[K     |█████████                       | 256kB 9.5MB/s eta 0:00:01\r\u001b[K     |█████████▎                      | 266kB 9.5MB/s eta 0:00:01\r\u001b[K     |█████████▋                      | 276kB 9.5MB/s eta 0:00:01\r\u001b[K     |██████████                      | 286kB 9.5MB/s eta 0:00:01\r\u001b[K     |██████████▍                     | 296kB 9.5MB/s eta 0:00:01\r\u001b[K     |██████████▊                     | 307kB 9.5MB/s eta 0:00:01\r\u001b[K     |███████████                     | 317kB 9.5MB/s eta 0:00:01\r\u001b[K     |███████████▍                    | 327kB 9.5MB/s eta 0:00:01\r\u001b[K     |███████████▉                    | 337kB 9.5MB/s eta 0:00:01\r\u001b[K     |████████████▏                   | 348kB 9.5MB/s eta 0:00:01\r\u001b[K     |████████████▌                   | 358kB 9.5MB/s eta 0:00:01\r\u001b[K     |████████████▉                   | 368kB 9.5MB/s eta 0:00:01\r\u001b[K     |█████████████▏                  | 378kB 9.5MB/s eta 0:00:01\r\u001b[K     |█████████████▋                  | 389kB 9.5MB/s eta 0:00:01\r\u001b[K     |██████████████                  | 399kB 9.5MB/s eta 0:00:01\r\u001b[K     |██████████████▎                 | 409kB 9.5MB/s eta 0:00:01\r\u001b[K     |██████████████▋                 | 419kB 9.5MB/s eta 0:00:01\r\u001b[K     |███████████████                 | 430kB 9.5MB/s eta 0:00:01\r\u001b[K     |███████████████▍                | 440kB 9.5MB/s eta 0:00:01\r\u001b[K     |███████████████▊                | 450kB 9.5MB/s eta 0:00:01\r\u001b[K     |████████████████                | 460kB 9.5MB/s eta 0:00:01\r\u001b[K     |████████████████▍               | 471kB 9.5MB/s eta 0:00:01\r\u001b[K     |████████████████▉               | 481kB 9.5MB/s eta 0:00:01\r\u001b[K     |█████████████████▏              | 491kB 9.5MB/s eta 0:00:01\r\u001b[K     |█████████████████▌              | 501kB 9.5MB/s eta 0:00:01\r\u001b[K     |█████████████████▉              | 512kB 9.5MB/s eta 0:00:01\r\u001b[K     |██████████████████▏             | 522kB 9.5MB/s eta 0:00:01\r\u001b[K     |██████████████████▋             | 532kB 9.5MB/s eta 0:00:01\r\u001b[K     |███████████████████             | 542kB 9.5MB/s eta 0:00:01\r\u001b[K     |███████████████████▎            | 552kB 9.5MB/s eta 0:00:01\r\u001b[K     |███████████████████▋            | 563kB 9.5MB/s eta 0:00:01\r\u001b[K     |████████████████████            | 573kB 9.5MB/s eta 0:00:01\r\u001b[K     |████████████████████▍           | 583kB 9.5MB/s eta 0:00:01\r\u001b[K     |████████████████████▊           | 593kB 9.5MB/s eta 0:00:01\r\u001b[K     |█████████████████████           | 604kB 9.5MB/s eta 0:00:01\r\u001b[K     |█████████████████████▍          | 614kB 9.5MB/s eta 0:00:01\r\u001b[K     |█████████████████████▊          | 624kB 9.5MB/s eta 0:00:01\r\u001b[K     |██████████████████████▏         | 634kB 9.5MB/s eta 0:00:01\r\u001b[K     |██████████████████████▌         | 645kB 9.5MB/s eta 0:00:01\r\u001b[K     |██████████████████████▉         | 655kB 9.5MB/s eta 0:00:01\r\u001b[K     |███████████████████████▏        | 665kB 9.5MB/s eta 0:00:01\r\u001b[K     |███████████████████████▋        | 675kB 9.5MB/s eta 0:00:01\r\u001b[K     |████████████████████████        | 686kB 9.5MB/s eta 0:00:01\r\u001b[K     |████████████████████████▎       | 696kB 9.5MB/s eta 0:00:01\r\u001b[K     |████████████████████████▋       | 706kB 9.5MB/s eta 0:00:01\r\u001b[K     |█████████████████████████       | 716kB 9.5MB/s eta 0:00:01\r\u001b[K     |█████████████████████████▍      | 727kB 9.5MB/s eta 0:00:01\r\u001b[K     |█████████████████████████▊      | 737kB 9.5MB/s eta 0:00:01\r\u001b[K     |██████████████████████████      | 747kB 9.5MB/s eta 0:00:01\r\u001b[K     |██████████████████████████▍     | 757kB 9.5MB/s eta 0:00:01\r\u001b[K     |██████████████████████████▊     | 768kB 9.5MB/s eta 0:00:01\r\u001b[K     |███████████████████████████▏    | 778kB 9.5MB/s eta 0:00:01\r\u001b[K     |███████████████████████████▌    | 788kB 9.5MB/s eta 0:00:01\r\u001b[K     |███████████████████████████▉    | 798kB 9.5MB/s eta 0:00:01\r\u001b[K     |████████████████████████████▏   | 808kB 9.5MB/s eta 0:00:01\r\u001b[K     |████████████████████████████▋   | 819kB 9.5MB/s eta 0:00:01\r\u001b[K     |█████████████████████████████   | 829kB 9.5MB/s eta 0:00:01\r\u001b[K     |█████████████████████████████▎  | 839kB 9.5MB/s eta 0:00:01\r\u001b[K     |█████████████████████████████▋  | 849kB 9.5MB/s eta 0:00:01\r\u001b[K     |██████████████████████████████  | 860kB 9.5MB/s eta 0:00:01\r\u001b[K     |██████████████████████████████▍ | 870kB 9.5MB/s eta 0:00:01\r\u001b[K     |██████████████████████████████▊ | 880kB 9.5MB/s eta 0:00:01\r\u001b[K     |███████████████████████████████ | 890kB 9.5MB/s eta 0:00:01\r\u001b[K     |███████████████████████████████▍| 901kB 9.5MB/s eta 0:00:01\r\u001b[K     |███████████████████████████████▊| 911kB 9.5MB/s eta 0:00:01\r\u001b[K     |████████████████████████████████| 921kB 9.5MB/s \n",
            "\u001b[?25hCollecting GPUtil\n",
            "  Downloading https://files.pythonhosted.org/packages/ed/0e/5c61eedde9f6c87713e89d794f01e378cfd9565847d4576fa627d758c554/GPUtil-1.4.0.tar.gz\n",
            "Requirement already satisfied: pandas in /usr/local/lib/python3.6/dist-packages (from cdt) (0.25.3)\n",
            "Requirement already satisfied: statsmodels in /usr/local/lib/python3.6/dist-packages (from cdt) (0.10.2)\n",
            "Collecting skrebate\n",
            "  Downloading https://files.pythonhosted.org/packages/7d/01/764fdd40b0e9f01624725c3cf1ffa00071fabb66b62d39fc2c28b34f3edb/skrebate-0.6.tar.gz\n",
            "Requirement already satisfied: tqdm in /usr/local/lib/python3.6/dist-packages (from cdt) (4.28.1)\n",
            "Requirement already satisfied: numpy in /usr/local/lib/python3.6/dist-packages (from cdt) (1.17.5)\n",
            "Requirement already satisfied: networkx in /usr/local/lib/python3.6/dist-packages (from cdt) (2.4)\n",
            "Requirement already satisfied: requests in /usr/local/lib/python3.6/dist-packages (from cdt) (2.21.0)\n",
            "Requirement already satisfied: scipy in /usr/local/lib/python3.6/dist-packages (from cdt) (1.4.1)\n",
            "Requirement already satisfied: scikit-learn in /usr/local/lib/python3.6/dist-packages (from cdt) (0.22.1)\n",
            "Requirement already satisfied: joblib in /usr/local/lib/python3.6/dist-packages (from cdt) (0.14.1)\n",
            "Requirement already satisfied: python-dateutil>=2.6.1 in /usr/local/lib/python3.6/dist-packages (from pandas->cdt) (2.6.1)\n",
            "Requirement already satisfied: pytz>=2017.2 in /usr/local/lib/python3.6/dist-packages (from pandas->cdt) (2018.9)\n",
            "Requirement already satisfied: patsy>=0.4.0 in /usr/local/lib/python3.6/dist-packages (from statsmodels->cdt) (0.5.1)\n",
            "Requirement already satisfied: decorator>=4.3.0 in /usr/local/lib/python3.6/dist-packages (from networkx->cdt) (4.4.1)\n",
            "Requirement already satisfied: chardet<3.1.0,>=3.0.2 in /usr/local/lib/python3.6/dist-packages (from requests->cdt) (3.0.4)\n",
            "Requirement already satisfied: idna<2.9,>=2.5 in /usr/local/lib/python3.6/dist-packages (from requests->cdt) (2.8)\n",
            "Requirement already satisfied: urllib3<1.25,>=1.21.1 in /usr/local/lib/python3.6/dist-packages (from requests->cdt) (1.24.3)\n",
            "Requirement already satisfied: certifi>=2017.4.17 in /usr/local/lib/python3.6/dist-packages (from requests->cdt) (2019.11.28)\n",
            "Requirement already satisfied: six>=1.5 in /usr/local/lib/python3.6/dist-packages (from python-dateutil>=2.6.1->pandas->cdt) (1.12.0)\n",
            "Building wheels for collected packages: GPUtil, skrebate\n",
            "  Building wheel for GPUtil (setup.py) ... \u001b[?25l\u001b[?25hdone\n",
            "  Created wheel for GPUtil: filename=GPUtil-1.4.0-cp36-none-any.whl size=7410 sha256=bcf8e73f2c8b9c54cd60b75ec19d295d5101844891b7f026e4bcf04633eadf76\n",
            "  Stored in directory: /root/.cache/pip/wheels/3d/77/07/80562de4bb0786e5ea186911a2c831fdd0018bda69beab71fd\n",
            "  Building wheel for skrebate (setup.py) ... \u001b[?25l\u001b[?25hdone\n",
            "  Created wheel for skrebate: filename=skrebate-0.6-cp36-none-any.whl size=29329 sha256=ef1200c650e287572271e094d01bda37075b7122e0eef2ef786b1ae9726ffa6c\n",
            "  Stored in directory: /root/.cache/pip/wheels/f5/99/36/c827bcfa6852c6d068895b2723c57cea84f93642270c6dc05c\n",
            "Successfully built GPUtil skrebate\n",
            "Installing collected packages: GPUtil, skrebate, cdt\n",
            "Successfully installed GPUtil-1.4.0 cdt-0.5.16 skrebate-0.6\n"
          ],
          "name": "stdout"
        }
      ]
    },
    {
      "cell_type": "code",
      "metadata": {
        "id": "4VvzzlXO939_",
        "colab_type": "code",
        "outputId": "40707e58-4057-4488-d686-c00848990bfe",
        "colab": {
          "base_uri": "https://localhost:8080/",
          "height": 134
        }
      },
      "source": [
        "import numpy as np\n",
        "import cdt\n",
        "from cdt import SETTINGS\n",
        "from cdt.causality.graph import SAM\n",
        "SETTINGS.verbose=False\n",
        "SETTINGS.NJOBS=16\n",
        "import networkx as nx\n",
        "import time\n",
        "import pandas as pd\n",
        "from matplotlib import pyplot as plt\n",
        "import tensorflow as tf\n",
        "import tensorflow_probability as tfp\n",
        "\n",
        "tfk = tf.keras\n",
        "tfkl = tf.keras.layers\n",
        "tfpl = tfp.layers\n",
        "tfd = tfp.distributions\n",
        "\n",
        "if tf.test.gpu_device_name() != '/device:GPU:0':\n",
        "    print('WARNING: GPU device not found.')\n",
        "else:\n",
        "    print('SUCCESS: Found GPU: {}'.format(tf.test.gpu_device_name()))\n",
        "\n",
        "np.set_printoptions(precision=3)"
      ],
      "execution_count": 2,
      "outputs": [
        {
          "output_type": "stream",
          "text": [
            "Detecting 1 CUDA device(s).\n",
            "sklearn.externals.joblib is deprecated in 0.21 and will be removed in 0.23. Please import this functionality directly from joblib, which can be installed with: pip install joblib. If this warning is raised when loading pickled models, you may need to re-serialize those models with scikit-learn 0.21+.\n"
          ],
          "name": "stderr"
        },
        {
          "output_type": "display_data",
          "data": {
            "text/html": [
              "<p style=\"color: red;\">\n",
              "The default version of TensorFlow in Colab will soon switch to TensorFlow 2.x.<br>\n",
              "We recommend you <a href=\"https://www.tensorflow.org/guide/migrate\" target=\"_blank\">upgrade</a> now \n",
              "or ensure your notebook will continue to use TensorFlow 1.x via the <code>%tensorflow_version 1.x</code> magic:\n",
              "<a href=\"https://colab.research.google.com/notebooks/tensorflow_version.ipynb\" target=\"_blank\">more info</a>.</p>\n"
            ],
            "text/plain": [
              "<IPython.core.display.HTML object>"
            ]
          },
          "metadata": {
            "tags": []
          }
        },
        {
          "output_type": "stream",
          "text": [
            "SUCCESS: Found GPU: /device:GPU:0\n"
          ],
          "name": "stdout"
        }
      ]
    },
    {
      "cell_type": "code",
      "metadata": {
        "id": "tmRrl_pO9_lO",
        "colab_type": "code",
        "colab": {}
      },
      "source": [
        "class GCN(tfkl.Layer):\n",
        "    def __init__(self, units=32):\n",
        "        super(GCN, self).__init__()\n",
        "        self.units = units\n",
        "\n",
        "    def build(self, input_shape):\n",
        "        # print('GCN input shape', input_shape)\n",
        "        bs, nb_vars, dim = input_shape[0]\n",
        "\n",
        "        self.w = self.add_weight(shape=(dim, self.units),\n",
        "                              initializer='random_normal',\n",
        "                              trainable=True)\n",
        "        self.b = self.add_weight(shape=(self.units,),\n",
        "                             initializer='random_normal',\n",
        "                             trainable=True)\n",
        "        super(GCN, self).build(input_shape)\n",
        "    \n",
        "    \n",
        "    def call(self, inputs):\n",
        "        h, adj = inputs\n",
        "\n",
        "        # Compute normalized adjacency matrix\n",
        "        nb_vars = adj.shape[0]\n",
        "        adj_hat = adj + tf.linalg.diag(tf.ones(nb_vars))\n",
        "        d_hat = tf.reduce_sum(adj_hat, axis=-1)  # Degree of each variable\n",
        "        d_hat_sqrt = tf.linalg.diag(tf.sqrt(d_hat))\n",
        "        norm_adj_hat = d_hat_sqrt @ adj_hat @ d_hat_sqrt\n",
        "\n",
        "        # Perform graph convolutions\n",
        "        h_t = tf.transpose(h, perm=(0, 2, 1))  # (bs, dim, nb_vars)\n",
        "        norm_adj_hat_t = tf.transpose(norm_adj_hat, perm=(1, 0))  # Shape=(nb_vars, nb_vars)\n",
        "        out = tf.transpose(h_t @ norm_adj_hat_t, perm=((0, 2, 1))) @ self.w # + self.b\n",
        "\n",
        "        return out\n",
        "    \n",
        "\n",
        "class Encoder(tfkl.Layer):\n",
        "    def __init__(self):\n",
        "        super(Encoder, self).__init__()\n",
        "\n",
        "    def build(self, input_shape):\n",
        "        print(input_shape)\n",
        "        bs, nb_vars = input_shape\n",
        "        self.loc = self.add_weight(shape=(nb_vars,),\n",
        "                              initializer='random_normal',\n",
        "                              trainable=True)\n",
        "        # tfkl.Dense(nb_vars)\n",
        "        self.scale = self.add_weight(shape=(nb_vars,),\n",
        "                              initializer='random_normal',\n",
        "                              trainable=True)\n",
        "        \n",
        "        # tfkl.Dense(nb_vars, activation=tf.nn.softplus)\n",
        "        # self._trainable_weights = [self.loc.trainable_weights, self.scale.trainable_weights]\n",
        "        super(Encoder, self).build(input_shape)\n",
        "\n",
        "    def call(self, x):\n",
        "        bs = x.shape[0]\n",
        "        loc = tf.zeros_like(x) + self.loc\n",
        "        scale = tf.zeros_like(x) + self.scale\n",
        "        return tfd.MultivariateNormalDiag(loc,  # (x),\n",
        "                                          scale)  # (x))\n",
        "\n",
        "class Decoder(tfkl.Layer):\n",
        "    def __init__(self, v = 0.01):\n",
        "        super(Decoder, self).__init__()\n",
        "        self.v = v\n",
        "\n",
        "    def build(self, input_shape):\n",
        "        # Input shape: (bs, nb_vars)\n",
        "        nb_vars = input_shape[-1]\n",
        "        p = self.add_weight(shape=(nb_vars, nb_vars),\n",
        "                            initializer=lambda shape, dtype: tf.ones(shape, dtype=dtype)/2,\n",
        "                            trainable=True,\n",
        "                            constraint=lambda t: tf.clip_by_value(t, self.v, 1-self.v))\n",
        "        mask = 1 - tf.linalg.diag(tf.ones(nb_vars))\n",
        "        self.p = p * mask\n",
        "        self.f = GCN(2)\n",
        "        super(Decoder, self).build(input_shape)\n",
        "\n",
        "    def call(self, x, temperature = 1):\n",
        "        a = tfd.RelaxedBernoulli(temperature, probs=self.p).sample()\n",
        "        self.a = a\n",
        "        e = x[..., None]  # Noise terms for each variable. Shape=(bs, nb_vars, 1) \n",
        "        h = self.f([e, a])  # Shape=(bs, nb_vars, 2)\n",
        "        loc = h[..., 0]\n",
        "        scale = h[..., 1]\n",
        "        out = tfd.MultivariateNormalDiag(loc, scale)\n",
        "        return out\n",
        "    \n",
        "    def structural_regularizer(self):\n",
        "        return tf.reduce_sum(self.p)  # tf.reduce_sum(self.a)\n",
        "\n",
        "def prior(nb_vars):\n",
        "    loc = tf.zeros(nb_vars)\n",
        "    scale = tf.ones(nb_vars)\n",
        "    return tfd.MultivariateNormalDiag(loc, scale)"
      ],
      "execution_count": 0,
      "outputs": []
    },
    {
      "cell_type": "code",
      "metadata": {
        "id": "aTxJGONP_6ak",
        "colab_type": "code",
        "outputId": "5901e3f7-7953-40c7-dece-fe67863a399b",
        "colab": {
          "base_uri": "https://localhost:8080/",
          "height": 650
        }
      },
      "source": [
        "# Load data\n",
        "nb_vars = 10\n",
        "nb_samples = 2000\n",
        "agg = cdt.data.AcyclicGraphGenerator(causal_mechanism='linear',\n",
        "                                     npoints=nb_samples,\n",
        "                                     nodes=nb_vars,\n",
        "                                     parents_max=3,\n",
        "                                     expected_degree=3)\n",
        "data, g = agg.generate()\n",
        "nx.draw_networkx(g, pos=nx.circular_layout(g))\n",
        "data"
      ],
      "execution_count": 21,
      "outputs": [
        {
          "output_type": "execute_result",
          "data": {
            "text/html": [
              "<div>\n",
              "<style scoped>\n",
              "    .dataframe tbody tr th:only-of-type {\n",
              "        vertical-align: middle;\n",
              "    }\n",
              "\n",
              "    .dataframe tbody tr th {\n",
              "        vertical-align: top;\n",
              "    }\n",
              "\n",
              "    .dataframe thead th {\n",
              "        text-align: right;\n",
              "    }\n",
              "</style>\n",
              "<table border=\"1\" class=\"dataframe\">\n",
              "  <thead>\n",
              "    <tr style=\"text-align: right;\">\n",
              "      <th></th>\n",
              "      <th>V0</th>\n",
              "      <th>V1</th>\n",
              "      <th>V2</th>\n",
              "      <th>V3</th>\n",
              "      <th>V4</th>\n",
              "      <th>V5</th>\n",
              "      <th>V6</th>\n",
              "      <th>V7</th>\n",
              "      <th>V8</th>\n",
              "      <th>V9</th>\n",
              "    </tr>\n",
              "  </thead>\n",
              "  <tbody>\n",
              "    <tr>\n",
              "      <th>0</th>\n",
              "      <td>-0.725941</td>\n",
              "      <td>-0.944743</td>\n",
              "      <td>-3.399540</td>\n",
              "      <td>-2.844207</td>\n",
              "      <td>-3.193719</td>\n",
              "      <td>-1.448650</td>\n",
              "      <td>-3.407909</td>\n",
              "      <td>-3.898694</td>\n",
              "      <td>-3.704926</td>\n",
              "      <td>-3.515870</td>\n",
              "    </tr>\n",
              "    <tr>\n",
              "      <th>1</th>\n",
              "      <td>-0.800856</td>\n",
              "      <td>-0.173580</td>\n",
              "      <td>-3.490670</td>\n",
              "      <td>-2.723656</td>\n",
              "      <td>-3.438987</td>\n",
              "      <td>-0.814140</td>\n",
              "      <td>-3.090658</td>\n",
              "      <td>-3.513363</td>\n",
              "      <td>-3.719015</td>\n",
              "      <td>-3.554667</td>\n",
              "    </tr>\n",
              "    <tr>\n",
              "      <th>2</th>\n",
              "      <td>-0.702618</td>\n",
              "      <td>0.178546</td>\n",
              "      <td>-3.516439</td>\n",
              "      <td>-2.561114</td>\n",
              "      <td>-2.632457</td>\n",
              "      <td>-0.664811</td>\n",
              "      <td>-2.870183</td>\n",
              "      <td>-3.076491</td>\n",
              "      <td>-3.251564</td>\n",
              "      <td>-3.375902</td>\n",
              "    </tr>\n",
              "    <tr>\n",
              "      <th>3</th>\n",
              "      <td>-0.827770</td>\n",
              "      <td>-0.220522</td>\n",
              "      <td>-3.597374</td>\n",
              "      <td>-2.821905</td>\n",
              "      <td>-3.444674</td>\n",
              "      <td>-1.233935</td>\n",
              "      <td>-3.224829</td>\n",
              "      <td>-3.925705</td>\n",
              "      <td>-3.778895</td>\n",
              "      <td>-3.560724</td>\n",
              "    </tr>\n",
              "    <tr>\n",
              "      <th>4</th>\n",
              "      <td>-1.161090</td>\n",
              "      <td>-1.015694</td>\n",
              "      <td>-3.027568</td>\n",
              "      <td>-2.989479</td>\n",
              "      <td>-3.005508</td>\n",
              "      <td>-1.488517</td>\n",
              "      <td>-3.225774</td>\n",
              "      <td>-3.645730</td>\n",
              "      <td>-3.429701</td>\n",
              "      <td>-3.072662</td>\n",
              "    </tr>\n",
              "    <tr>\n",
              "      <th>...</th>\n",
              "      <td>...</td>\n",
              "      <td>...</td>\n",
              "      <td>...</td>\n",
              "      <td>...</td>\n",
              "      <td>...</td>\n",
              "      <td>...</td>\n",
              "      <td>...</td>\n",
              "      <td>...</td>\n",
              "      <td>...</td>\n",
              "      <td>...</td>\n",
              "    </tr>\n",
              "    <tr>\n",
              "      <th>1995</th>\n",
              "      <td>1.544593</td>\n",
              "      <td>0.713946</td>\n",
              "      <td>0.812751</td>\n",
              "      <td>1.898658</td>\n",
              "      <td>2.250012</td>\n",
              "      <td>0.929556</td>\n",
              "      <td>1.694214</td>\n",
              "      <td>1.388380</td>\n",
              "      <td>2.017699</td>\n",
              "      <td>2.137791</td>\n",
              "    </tr>\n",
              "    <tr>\n",
              "      <th>1996</th>\n",
              "      <td>0.517252</td>\n",
              "      <td>0.725727</td>\n",
              "      <td>0.129506</td>\n",
              "      <td>0.694814</td>\n",
              "      <td>1.067822</td>\n",
              "      <td>0.671419</td>\n",
              "      <td>0.603003</td>\n",
              "      <td>0.802267</td>\n",
              "      <td>0.820466</td>\n",
              "      <td>0.727026</td>\n",
              "    </tr>\n",
              "    <tr>\n",
              "      <th>1997</th>\n",
              "      <td>1.174755</td>\n",
              "      <td>2.215882</td>\n",
              "      <td>0.651272</td>\n",
              "      <td>1.950053</td>\n",
              "      <td>1.153441</td>\n",
              "      <td>2.543117</td>\n",
              "      <td>2.211590</td>\n",
              "      <td>1.096531</td>\n",
              "      <td>1.496808</td>\n",
              "      <td>1.285926</td>\n",
              "    </tr>\n",
              "    <tr>\n",
              "      <th>1998</th>\n",
              "      <td>0.031010</td>\n",
              "      <td>-0.605009</td>\n",
              "      <td>0.412085</td>\n",
              "      <td>0.087896</td>\n",
              "      <td>0.276887</td>\n",
              "      <td>-0.376853</td>\n",
              "      <td>0.084329</td>\n",
              "      <td>0.257353</td>\n",
              "      <td>0.234775</td>\n",
              "      <td>0.306465</td>\n",
              "    </tr>\n",
              "    <tr>\n",
              "      <th>1999</th>\n",
              "      <td>0.294017</td>\n",
              "      <td>-0.120501</td>\n",
              "      <td>0.440111</td>\n",
              "      <td>0.449729</td>\n",
              "      <td>0.860496</td>\n",
              "      <td>0.185896</td>\n",
              "      <td>0.454730</td>\n",
              "      <td>0.295028</td>\n",
              "      <td>0.665336</td>\n",
              "      <td>0.577506</td>\n",
              "    </tr>\n",
              "  </tbody>\n",
              "</table>\n",
              "<p>2000 rows × 10 columns</p>\n",
              "</div>"
            ],
            "text/plain": [
              "            V0        V1        V2  ...        V7        V8        V9\n",
              "0    -0.725941 -0.944743 -3.399540  ... -3.898694 -3.704926 -3.515870\n",
              "1    -0.800856 -0.173580 -3.490670  ... -3.513363 -3.719015 -3.554667\n",
              "2    -0.702618  0.178546 -3.516439  ... -3.076491 -3.251564 -3.375902\n",
              "3    -0.827770 -0.220522 -3.597374  ... -3.925705 -3.778895 -3.560724\n",
              "4    -1.161090 -1.015694 -3.027568  ... -3.645730 -3.429701 -3.072662\n",
              "...        ...       ...       ...  ...       ...       ...       ...\n",
              "1995  1.544593  0.713946  0.812751  ...  1.388380  2.017699  2.137791\n",
              "1996  0.517252  0.725727  0.129506  ...  0.802267  0.820466  0.727026\n",
              "1997  1.174755  2.215882  0.651272  ...  1.096531  1.496808  1.285926\n",
              "1998  0.031010 -0.605009  0.412085  ...  0.257353  0.234775  0.306465\n",
              "1999  0.294017 -0.120501  0.440111  ...  0.295028  0.665336  0.577506\n",
              "\n",
              "[2000 rows x 10 columns]"
            ]
          },
          "metadata": {
            "tags": []
          },
          "execution_count": 21
        },
        {
          "output_type": "display_data",
          "data": {
            "image/png": "[encoded data removed]",
            "text/plain": [
              "<Figure size 432x288 with 1 Axes>"
            ]
          },
          "metadata": {
            "tags": []
          }
        }
      ]
    },
    {
      "cell_type": "code",
      "metadata": {
        "id": "42iLMNLmL-ey",
        "colab_type": "code",
        "outputId": "613f26d3-2041-4d81-b89d-c35197f1a450",
        "colab": {
          "base_uri": "https://localhost:8080/",
          "height": 105
        }
      },
      "source": [
        "lambda_struct = 0.001\n",
        "beta = 10\n",
        "\n",
        "x_ = tf.placeholder(tf.float32, [None, nb_vars])\n",
        "encoder = Encoder()\n",
        "decoder = Decoder()\n",
        "\n",
        "posterior = encoder(x_)  # Posterior approximation\n",
        "code = posterior.sample()\n",
        "\n",
        "log_likelihood = -tf.losses.mean_squared_error(x_, decoder(code).sample())\n",
        "divergence = tf.reduce_mean(tfd.kl_divergence(posterior, prior(nb_vars)))\n",
        "\n",
        "elbo = log_likelihood - beta * divergence\n",
        "structural_L = lambda_struct * decoder.structural_regularizer()\n",
        "L =  structural_L - elbo"
      ],
      "execution_count": 22,
      "outputs": [
        {
          "output_type": "stream",
          "text": [
            "(?, 10)\n",
            "WARNING:tensorflow:From /usr/local/lib/python3.6/dist-packages/tensorflow_core/python/ops/losses/losses_impl.py:121: where (from tensorflow.python.ops.array_ops) is deprecated and will be removed in a future version.\n",
            "Instructions for updating:\n",
            "Use tf.where in 2.0, which has the same broadcast rule as np.where\n"
          ],
          "name": "stdout"
        }
      ]
    },
    {
      "cell_type": "code",
      "metadata": {
        "id": "xbzdJWFOjMEp",
        "colab_type": "code",
        "colab": {}
      },
      "source": [
        "lr = 0.001\n",
        "bs = 32\n",
        "epochs = 200\n",
        "\n",
        "optimize = tf.train.AdamOptimizer(lr).minimize(L)\n",
        "optimize_elbo = tf.train.AdamOptimizer(lr).minimize(-elbo)\n",
        "optimize_structure = tf.train.AdamOptimizer(lr).minimize(structural_L)"
      ],
      "execution_count": 0,
      "outputs": []
    },
    {
      "cell_type": "code",
      "metadata": {
        "id": "R0XTLHTORAgA",
        "colab_type": "code",
        "outputId": "0be0a3ff-2dfd-46b6-cc7e-c2c00c221995",
        "colab": {
          "base_uri": "https://localhost:8080/",
          "height": 1000
        }
      },
      "source": [
        "x = data.values\n",
        "\n",
        "with tf.Session() as sess:\n",
        "    sess.run(tf.global_variables_initializer())\n",
        "\n",
        "    for epoch in range(epochs):\n",
        "\n",
        "        for i in range(0, len(x), bs):\n",
        "            x_batch = x[i: i+bs, :]\n",
        "            # _, loss, elbo_loss, s_loss, div_loss, log_loss = sess.run([optimize_elbo, L, elbo, structural_L, divergence, log_likelihood], {x_: x_batch})\n",
        "            # _, loss, elbo_loss, s_loss, div_loss, log_loss = sess.run([optimize_structure, L, elbo, structural_L, divergence, log_likelihood], {x_: x_batch})\n",
        "            _, loss, elbo_loss, s_loss, div_loss, log_loss = sess.run([optimize, L, elbo, structural_L, divergence, log_likelihood], {x_: x_batch})\n",
        "            # print('Div loss: {:.2f}'.format(div_loss))\n",
        "            # print('Log loss: {:.2f}'.format(log_loss))\n",
        "            # print(sess.run(decoder(code).sample(), {x_: x_batch})[0])\n",
        "\n",
        "        print('Epoch: {}, loss: {:.2f}, -elbo: {:.2f}, s_loss: {:.4f}'.format(epoch, loss, -elbo_loss, s_loss))\n",
        "    \n",
        "    prob_edges = sess.run(decoder.p)"
      ],
      "execution_count": 24,
      "outputs": [
        {
          "output_type": "stream",
          "text": [
            "Epoch: 0, loss: 189.28, -elbo: 189.23, s_loss: 0.0422\n",
            "Epoch: 1, loss: 153.73, -elbo: 153.69, s_loss: 0.0384\n",
            "Epoch: 2, loss: 130.95, -elbo: 130.92, s_loss: 0.0350\n",
            "Epoch: 3, loss: 114.19, -elbo: 114.16, s_loss: 0.0313\n",
            "Epoch: 4, loss: 100.94, -elbo: 100.91, s_loss: 0.0274\n",
            "Epoch: 5, loss: 90.04, -elbo: 90.02, s_loss: 0.0234\n",
            "Epoch: 6, loss: 80.84, -elbo: 80.82, s_loss: 0.0191\n",
            "Epoch: 7, loss: 72.92, -elbo: 72.91, s_loss: 0.0147\n",
            "Epoch: 8, loss: 66.02, -elbo: 66.01, s_loss: 0.0102\n",
            "Epoch: 9, loss: 59.93, -elbo: 59.93, s_loss: 0.0060\n",
            "Epoch: 10, loss: 54.52, -elbo: 54.51, s_loss: 0.0034\n",
            "Epoch: 11, loss: 49.67, -elbo: 49.67, s_loss: 0.0020\n",
            "Epoch: 12, loss: 45.32, -elbo: 45.32, s_loss: 0.0013\n",
            "Epoch: 13, loss: 41.38, -elbo: 41.38, s_loss: 0.0011\n",
            "Epoch: 14, loss: 37.82, -elbo: 37.82, s_loss: 0.0010\n",
            "Epoch: 15, loss: 34.58, -elbo: 34.57, s_loss: 0.0009\n",
            "Epoch: 16, loss: 31.62, -elbo: 31.62, s_loss: 0.0009\n",
            "Epoch: 17, loss: 28.93, -elbo: 28.93, s_loss: 0.0009\n",
            "Epoch: 18, loss: 26.46, -elbo: 26.46, s_loss: 0.0009\n",
            "Epoch: 19, loss: 24.21, -elbo: 24.21, s_loss: 0.0009\n",
            "Epoch: 20, loss: 22.15, -elbo: 22.14, s_loss: 0.0009\n",
            "Epoch: 21, loss: 20.26, -elbo: 20.26, s_loss: 0.0009\n",
            "Epoch: 22, loss: 18.52, -elbo: 18.52, s_loss: 0.0009\n",
            "Epoch: 23, loss: 16.94, -elbo: 16.93, s_loss: 0.0009\n",
            "Epoch: 24, loss: 15.48, -elbo: 15.48, s_loss: 0.0009\n",
            "Epoch: 25, loss: 14.15, -elbo: 14.15, s_loss: 0.0009\n",
            "Epoch: 26, loss: 12.92, -elbo: 12.92, s_loss: 0.0009\n",
            "Epoch: 27, loss: 11.81, -elbo: 11.81, s_loss: 0.0009\n",
            "Epoch: 28, loss: 10.79, -elbo: 10.78, s_loss: 0.0009\n",
            "Epoch: 29, loss: 9.85, -elbo: 9.85, s_loss: 0.0009\n",
            "Epoch: 30, loss: 8.99, -elbo: 8.99, s_loss: 0.0009\n",
            "Epoch: 31, loss: 8.21, -elbo: 8.21, s_loss: 0.0009\n",
            "Epoch: 32, loss: 7.50, -elbo: 7.50, s_loss: 0.0009\n",
            "Epoch: 33, loss: 6.85, -elbo: 6.85, s_loss: 0.0009\n",
            "Epoch: 34, loss: 6.26, -elbo: 6.26, s_loss: 0.0009\n",
            "Epoch: 35, loss: 5.72, -elbo: 5.72, s_loss: 0.0009\n",
            "Epoch: 36, loss: 5.24, -elbo: 5.24, s_loss: 0.0009\n",
            "Epoch: 37, loss: 4.80, -elbo: 4.80, s_loss: 0.0009\n",
            "Epoch: 38, loss: 4.40, -elbo: 4.39, s_loss: 0.0009\n",
            "Epoch: 39, loss: 4.03, -elbo: 4.03, s_loss: 0.0009\n",
            "Epoch: 40, loss: 3.70, -elbo: 3.70, s_loss: 0.0009\n",
            "Epoch: 41, loss: 3.41, -elbo: 3.41, s_loss: 0.0009\n",
            "Epoch: 42, loss: 3.14, -elbo: 3.14, s_loss: 0.0009\n",
            "Epoch: 43, loss: 2.90, -elbo: 2.90, s_loss: 0.0009\n",
            "Epoch: 44, loss: 2.69, -elbo: 2.69, s_loss: 0.0009\n",
            "Epoch: 45, loss: 2.49, -elbo: 2.49, s_loss: 0.0009\n",
            "Epoch: 46, loss: 2.32, -elbo: 2.32, s_loss: 0.0009\n",
            "Epoch: 47, loss: 2.17, -elbo: 2.17, s_loss: 0.0009\n",
            "Epoch: 48, loss: 2.03, -elbo: 2.03, s_loss: 0.0009\n",
            "Epoch: 49, loss: 1.90, -elbo: 1.90, s_loss: 0.0009\n",
            "Epoch: 50, loss: 1.79, -elbo: 1.79, s_loss: 0.0009\n",
            "Epoch: 51, loss: 1.70, -elbo: 1.70, s_loss: 0.0009\n",
            "Epoch: 52, loss: 1.61, -elbo: 1.61, s_loss: 0.0009\n",
            "Epoch: 53, loss: 1.53, -elbo: 1.53, s_loss: 0.0009\n",
            "Epoch: 54, loss: 1.47, -elbo: 1.46, s_loss: 0.0009\n",
            "Epoch: 55, loss: 1.41, -elbo: 1.40, s_loss: 0.0009\n",
            "Epoch: 56, loss: 1.35, -elbo: 1.35, s_loss: 0.0009\n",
            "Epoch: 57, loss: 1.31, -elbo: 1.31, s_loss: 0.0009\n",
            "Epoch: 58, loss: 1.27, -elbo: 1.27, s_loss: 0.0009\n",
            "Epoch: 59, loss: 1.23, -elbo: 1.23, s_loss: 0.0009\n",
            "Epoch: 60, loss: 1.20, -elbo: 1.20, s_loss: 0.0009\n",
            "Epoch: 61, loss: 1.17, -elbo: 1.17, s_loss: 0.0009\n",
            "Epoch: 62, loss: 1.15, -elbo: 1.15, s_loss: 0.0009\n",
            "Epoch: 63, loss: 1.13, -elbo: 1.13, s_loss: 0.0009\n",
            "Epoch: 64, loss: 1.11, -elbo: 1.11, s_loss: 0.0009\n",
            "Epoch: 65, loss: 1.10, -elbo: 1.09, s_loss: 0.0009\n",
            "Epoch: 66, loss: 1.08, -elbo: 1.08, s_loss: 0.0009\n",
            "Epoch: 67, loss: 1.07, -elbo: 1.07, s_loss: 0.0009\n",
            "Epoch: 68, loss: 1.06, -elbo: 1.06, s_loss: 0.0009\n",
            "Epoch: 69, loss: 1.06, -elbo: 1.05, s_loss: 0.0009\n",
            "Epoch: 70, loss: 1.05, -elbo: 1.05, s_loss: 0.0009\n",
            "Epoch: 71, loss: 1.05, -elbo: 1.05, s_loss: 0.0009\n",
            "Epoch: 72, loss: 1.04, -elbo: 1.04, s_loss: 0.0009\n",
            "Epoch: 73, loss: 1.04, -elbo: 1.04, s_loss: 0.0009\n",
            "Epoch: 74, loss: 1.03, -elbo: 1.03, s_loss: 0.0009\n",
            "Epoch: 75, loss: 1.03, -elbo: 1.03, s_loss: 0.0009\n",
            "Epoch: 76, loss: 1.03, -elbo: 1.03, s_loss: 0.0009\n",
            "Epoch: 77, loss: 1.03, -elbo: 1.03, s_loss: 0.0009\n",
            "Epoch: 78, loss: 1.02, -elbo: 1.02, s_loss: 0.0009\n",
            "Epoch: 79, loss: 1.02, -elbo: 1.02, s_loss: 0.0009\n",
            "Epoch: 80, loss: 1.02, -elbo: 1.02, s_loss: 0.0009\n",
            "Epoch: 81, loss: 1.02, -elbo: 1.02, s_loss: 0.0009\n",
            "Epoch: 82, loss: 1.02, -elbo: 1.02, s_loss: 0.0009\n",
            "Epoch: 83, loss: 1.02, -elbo: 1.02, s_loss: 0.0009\n",
            "Epoch: 84, loss: 1.02, -elbo: 1.02, s_loss: 0.0009\n",
            "Epoch: 85, loss: 1.02, -elbo: 1.02, s_loss: 0.0009\n",
            "Epoch: 86, loss: 1.02, -elbo: 1.02, s_loss: 0.0009\n",
            "Epoch: 87, loss: 1.02, -elbo: 1.02, s_loss: 0.0009\n",
            "Epoch: 88, loss: 1.02, -elbo: 1.02, s_loss: 0.0009\n",
            "Epoch: 89, loss: 1.02, -elbo: 1.02, s_loss: 0.0009\n",
            "Epoch: 90, loss: 1.02, -elbo: 1.02, s_loss: 0.0009\n",
            "Epoch: 91, loss: 1.02, -elbo: 1.02, s_loss: 0.0009\n",
            "Epoch: 92, loss: 1.02, -elbo: 1.02, s_loss: 0.0009\n",
            "Epoch: 93, loss: 1.02, -elbo: 1.02, s_loss: 0.0009\n",
            "Epoch: 94, loss: 1.02, -elbo: 1.02, s_loss: 0.0009\n",
            "Epoch: 95, loss: 1.02, -elbo: 1.02, s_loss: 0.0009\n",
            "Epoch: 96, loss: 1.02, -elbo: 1.02, s_loss: 0.0009\n",
            "Epoch: 97, loss: 1.02, -elbo: 1.02, s_loss: 0.0009\n",
            "Epoch: 98, loss: 1.02, -elbo: 1.02, s_loss: 0.0009\n",
            "Epoch: 99, loss: 1.02, -elbo: 1.02, s_loss: 0.0009\n",
            "Epoch: 100, loss: 1.02, -elbo: 1.02, s_loss: 0.0009\n",
            "Epoch: 101, loss: 1.02, -elbo: 1.02, s_loss: 0.0009\n",
            "Epoch: 102, loss: 1.02, -elbo: 1.02, s_loss: 0.0009\n",
            "Epoch: 103, loss: 1.02, -elbo: 1.02, s_loss: 0.0009\n",
            "Epoch: 104, loss: 1.02, -elbo: 1.02, s_loss: 0.0009\n",
            "Epoch: 105, loss: 1.02, -elbo: 1.02, s_loss: 0.0009\n",
            "Epoch: 106, loss: 1.02, -elbo: 1.02, s_loss: 0.0009\n",
            "Epoch: 107, loss: 1.02, -elbo: 1.02, s_loss: 0.0009\n",
            "Epoch: 108, loss: 1.02, -elbo: 1.02, s_loss: 0.0009\n",
            "Epoch: 109, loss: 1.02, -elbo: 1.02, s_loss: 0.0009\n",
            "Epoch: 110, loss: 1.02, -elbo: 1.02, s_loss: 0.0009\n",
            "Epoch: 111, loss: 1.02, -elbo: 1.02, s_loss: 0.0009\n",
            "Epoch: 112, loss: 1.02, -elbo: 1.02, s_loss: 0.0009\n",
            "Epoch: 113, loss: 1.02, -elbo: 1.02, s_loss: 0.0009\n",
            "Epoch: 114, loss: 1.02, -elbo: 1.02, s_loss: 0.0009\n",
            "Epoch: 115, loss: 1.02, -elbo: 1.02, s_loss: 0.0009\n",
            "Epoch: 116, loss: 1.02, -elbo: 1.02, s_loss: 0.0009\n",
            "Epoch: 117, loss: 1.02, -elbo: 1.02, s_loss: 0.0009\n",
            "Epoch: 118, loss: 1.02, -elbo: 1.01, s_loss: 0.0009\n",
            "Epoch: 119, loss: 1.02, -elbo: 1.02, s_loss: 0.0009\n",
            "Epoch: 120, loss: 1.02, -elbo: 1.02, s_loss: 0.0009\n",
            "Epoch: 121, loss: 1.02, -elbo: 1.02, s_loss: 0.0009\n",
            "Epoch: 122, loss: 1.02, -elbo: 1.02, s_loss: 0.0009\n",
            "Epoch: 123, loss: 1.02, -elbo: 1.02, s_loss: 0.0009\n",
            "Epoch: 124, loss: 1.02, -elbo: 1.02, s_loss: 0.0009\n",
            "Epoch: 125, loss: 1.02, -elbo: 1.02, s_loss: 0.0009\n",
            "Epoch: 126, loss: 1.02, -elbo: 1.02, s_loss: 0.0009\n",
            "Epoch: 127, loss: 1.02, -elbo: 1.02, s_loss: 0.0009\n",
            "Epoch: 128, loss: 1.02, -elbo: 1.02, s_loss: 0.0009\n",
            "Epoch: 129, loss: 1.02, -elbo: 1.02, s_loss: 0.0009\n",
            "Epoch: 130, loss: 1.02, -elbo: 1.02, s_loss: 0.0009\n",
            "Epoch: 131, loss: 1.02, -elbo: 1.02, s_loss: 0.0009\n",
            "Epoch: 132, loss: 1.02, -elbo: 1.02, s_loss: 0.0009\n",
            "Epoch: 133, loss: 1.02, -elbo: 1.02, s_loss: 0.0009\n",
            "Epoch: 134, loss: 1.02, -elbo: 1.02, s_loss: 0.0009\n",
            "Epoch: 135, loss: 1.02, -elbo: 1.02, s_loss: 0.0009\n",
            "Epoch: 136, loss: 1.02, -elbo: 1.02, s_loss: 0.0009\n",
            "Epoch: 137, loss: 1.02, -elbo: 1.02, s_loss: 0.0009\n",
            "Epoch: 138, loss: 1.02, -elbo: 1.02, s_loss: 0.0009\n",
            "Epoch: 139, loss: 1.02, -elbo: 1.02, s_loss: 0.0009\n",
            "Epoch: 140, loss: 1.02, -elbo: 1.02, s_loss: 0.0009\n",
            "Epoch: 141, loss: 1.02, -elbo: 1.02, s_loss: 0.0009\n",
            "Epoch: 142, loss: 1.02, -elbo: 1.02, s_loss: 0.0009\n",
            "Epoch: 143, loss: 1.02, -elbo: 1.02, s_loss: 0.0009\n",
            "Epoch: 144, loss: 1.02, -elbo: 1.02, s_loss: 0.0009\n",
            "Epoch: 145, loss: 1.02, -elbo: 1.02, s_loss: 0.0009\n",
            "Epoch: 146, loss: 1.02, -elbo: 1.02, s_loss: 0.0009\n",
            "Epoch: 147, loss: 1.02, -elbo: 1.02, s_loss: 0.0009\n",
            "Epoch: 148, loss: 1.02, -elbo: 1.02, s_loss: 0.0009\n",
            "Epoch: 149, loss: 1.02, -elbo: 1.02, s_loss: 0.0009\n",
            "Epoch: 150, loss: 1.02, -elbo: 1.02, s_loss: 0.0009\n",
            "Epoch: 151, loss: 1.02, -elbo: 1.02, s_loss: 0.0009\n",
            "Epoch: 152, loss: 1.02, -elbo: 1.02, s_loss: 0.0009\n",
            "Epoch: 153, loss: 1.02, -elbo: 1.02, s_loss: 0.0009\n",
            "Epoch: 154, loss: 1.02, -elbo: 1.02, s_loss: 0.0009\n",
            "Epoch: 155, loss: 1.02, -elbo: 1.02, s_loss: 0.0009\n",
            "Epoch: 156, loss: 1.02, -elbo: 1.02, s_loss: 0.0009\n",
            "Epoch: 157, loss: 1.02, -elbo: 1.02, s_loss: 0.0009\n",
            "Epoch: 158, loss: 1.02, -elbo: 1.02, s_loss: 0.0009\n",
            "Epoch: 159, loss: 1.02, -elbo: 1.01, s_loss: 0.0009\n",
            "Epoch: 160, loss: 1.02, -elbo: 1.02, s_loss: 0.0009\n",
            "Epoch: 161, loss: 1.02, -elbo: 1.02, s_loss: 0.0010\n",
            "Epoch: 162, loss: 1.02, -elbo: 1.02, s_loss: 0.0009\n",
            "Epoch: 163, loss: 1.02, -elbo: 1.02, s_loss: 0.0009\n",
            "Epoch: 164, loss: 1.02, -elbo: 1.02, s_loss: 0.0009\n",
            "Epoch: 165, loss: 1.02, -elbo: 1.02, s_loss: 0.0009\n",
            "Epoch: 166, loss: 1.02, -elbo: 1.02, s_loss: 0.0009\n",
            "Epoch: 167, loss: 1.02, -elbo: 1.02, s_loss: 0.0009\n",
            "Epoch: 168, loss: 1.02, -elbo: 1.02, s_loss: 0.0009\n",
            "Epoch: 169, loss: 1.02, -elbo: 1.02, s_loss: 0.0009\n",
            "Epoch: 170, loss: 1.02, -elbo: 1.02, s_loss: 0.0009\n",
            "Epoch: 171, loss: 1.02, -elbo: 1.02, s_loss: 0.0009\n",
            "Epoch: 172, loss: 1.02, -elbo: 1.02, s_loss: 0.0009\n",
            "Epoch: 173, loss: 1.02, -elbo: 1.02, s_loss: 0.0009\n",
            "Epoch: 174, loss: 1.02, -elbo: 1.02, s_loss: 0.0009\n",
            "Epoch: 175, loss: 1.02, -elbo: 1.02, s_loss: 0.0009\n",
            "Epoch: 176, loss: 1.02, -elbo: 1.02, s_loss: 0.0009\n",
            "Epoch: 177, loss: 1.02, -elbo: 1.02, s_loss: 0.0009\n",
            "Epoch: 178, loss: 1.02, -elbo: 1.02, s_loss: 0.0009\n",
            "Epoch: 179, loss: 1.02, -elbo: 1.02, s_loss: 0.0009\n",
            "Epoch: 180, loss: 1.02, -elbo: 1.02, s_loss: 0.0009\n",
            "Epoch: 181, loss: 1.02, -elbo: 1.02, s_loss: 0.0009\n",
            "Epoch: 182, loss: 1.02, -elbo: 1.02, s_loss: 0.0009\n",
            "Epoch: 183, loss: 1.02, -elbo: 1.02, s_loss: 0.0009\n",
            "Epoch: 184, loss: 1.02, -elbo: 1.02, s_loss: 0.0009\n",
            "Epoch: 185, loss: 1.02, -elbo: 1.02, s_loss: 0.0009\n",
            "Epoch: 186, loss: 1.02, -elbo: 1.02, s_loss: 0.0009\n",
            "Epoch: 187, loss: 1.02, -elbo: 1.02, s_loss: 0.0009\n",
            "Epoch: 188, loss: 1.02, -elbo: 1.02, s_loss: 0.0009\n",
            "Epoch: 189, loss: 1.02, -elbo: 1.02, s_loss: 0.0009\n",
            "Epoch: 190, loss: 1.02, -elbo: 1.02, s_loss: 0.0009\n",
            "Epoch: 191, loss: 1.02, -elbo: 1.02, s_loss: 0.0009\n",
            "Epoch: 192, loss: 1.02, -elbo: 1.02, s_loss: 0.0009\n",
            "Epoch: 193, loss: 1.02, -elbo: 1.02, s_loss: 0.0009\n",
            "Epoch: 194, loss: 1.02, -elbo: 1.02, s_loss: 0.0009\n",
            "Epoch: 195, loss: 1.02, -elbo: 1.02, s_loss: 0.0009\n",
            "Epoch: 196, loss: 1.02, -elbo: 1.02, s_loss: 0.0009\n",
            "Epoch: 197, loss: 1.02, -elbo: 1.02, s_loss: 0.0009\n",
            "Epoch: 198, loss: 1.02, -elbo: 1.02, s_loss: 0.0009\n",
            "Epoch: 199, loss: 1.02, -elbo: 1.02, s_loss: 0.0009\n"
          ],
          "name": "stdout"
        }
      ]
    },
    {
      "cell_type": "code",
      "metadata": {
        "id": "JBgdcDG7RoXl",
        "colab_type": "code",
        "outputId": "a09d823e-0add-41ea-c075-23978807dcd3",
        "colab": {
          "base_uri": "https://localhost:8080/",
          "height": 357
        }
      },
      "source": [
        "edges = prob_edges > 0.5\n",
        "reconstructed_g = nx.DiGraph(edges)\n",
        "prob_edges"
      ],
      "execution_count": 25,
      "outputs": [
        {
          "output_type": "execute_result",
          "data": {
            "text/plain": [
              "array([[0.   , 0.011, 0.01 , 0.01 , 0.01 , 0.02 , 0.01 , 0.01 , 0.01 ,\n",
              "        0.01 ],\n",
              "       [0.01 , 0.   , 0.01 , 0.01 , 0.01 , 0.01 , 0.01 , 0.01 , 0.01 ,\n",
              "        0.01 ],\n",
              "       [0.01 , 0.01 , 0.   , 0.01 , 0.01 , 0.01 , 0.01 , 0.01 , 0.01 ,\n",
              "        0.01 ],\n",
              "       [0.01 , 0.01 , 0.01 , 0.   , 0.01 , 0.01 , 0.01 , 0.01 , 0.01 ,\n",
              "        0.01 ],\n",
              "       [0.01 , 0.01 , 0.01 , 0.01 , 0.   , 0.01 , 0.01 , 0.01 , 0.01 ,\n",
              "        0.01 ],\n",
              "       [0.01 , 0.012, 0.01 , 0.01 , 0.01 , 0.   , 0.01 , 0.01 , 0.01 ,\n",
              "        0.013],\n",
              "       [0.01 , 0.01 , 0.01 , 0.01 , 0.01 , 0.01 , 0.   , 0.012, 0.01 ,\n",
              "        0.01 ],\n",
              "       [0.01 , 0.01 , 0.01 , 0.01 , 0.01 , 0.01 , 0.01 , 0.   , 0.01 ,\n",
              "        0.01 ],\n",
              "       [0.01 , 0.01 , 0.01 , 0.012, 0.01 , 0.01 , 0.011, 0.01 , 0.   ,\n",
              "        0.01 ],\n",
              "       [0.01 , 0.01 , 0.01 , 0.01 , 0.01 , 0.01 , 0.01 , 0.01 , 0.01 ,\n",
              "        0.   ]], dtype=float32)"
            ]
          },
          "metadata": {
            "tags": []
          },
          "execution_count": 25
        }
      ]
    },
    {
      "cell_type": "code",
      "metadata": {
        "id": "gknb7JYRR3I4",
        "colab_type": "code",
        "outputId": "3d85d25c-ce86-4fd9-9b01-602e6648cd41",
        "colab": {
          "base_uri": "https://localhost:8080/",
          "height": 377
        }
      },
      "source": [
        "edges"
      ],
      "execution_count": 0,
      "outputs": [
        {
          "output_type": "execute_result",
          "data": {
            "text/plain": [
              "array([[False, False, False, False, False, False, False, False, False,\n",
              "        False],\n",
              "       [False, False, False, False, False, False, False, False, False,\n",
              "        False],\n",
              "       [False, False, False, False, False, False, False, False, False,\n",
              "        False],\n",
              "       [False, False, False, False, False, False, False, False, False,\n",
              "        False],\n",
              "       [False, False, False, False, False, False, False, False, False,\n",
              "        False],\n",
              "       [False, False, False, False, False, False, False, False, False,\n",
              "        False],\n",
              "       [False, False, False, False, False, False, False, False, False,\n",
              "        False],\n",
              "       [False, False, False, False, False, False, False, False, False,\n",
              "        False],\n",
              "       [False, False, False, False, False, False, False, False, False,\n",
              "        False],\n",
              "       [False, False, False, False, False, False, False, False, False,\n",
              "        False]])"
            ]
          },
          "metadata": {
            "tags": []
          },
          "execution_count": 9
        }
      ]
    },
    {
      "cell_type": "code",
      "metadata": {
        "id": "E-3Eu8CmWXvE",
        "colab_type": "code",
        "outputId": "7713566a-7645-4ef1-df8b-b8a8c526e862",
        "colab": {
          "base_uri": "https://localhost:8080/",
          "height": 303
        }
      },
      "source": [
        "plt.figure(figsize=(15, 5))\n",
        "plt.subplot(1, 2, 1)\n",
        "nx.draw_networkx(g, pos=nx.circular_layout(g))\n",
        "plt.subplot(1, 2, 2)\n",
        "nx.draw_networkx(reconstructed_g, pos=nx.circular_layout(reconstructed_g))"
      ],
      "execution_count": 0,
      "outputs": [
        {
          "output_type": "display_data",
          "data": {
            "image/png": "[encoded data removed]",
            "text/plain": [
              "<Figure size 1080x360 with 2 Axes>"
            ]
          },
          "metadata": {
            "tags": []
          }
        }
      ]
    },
    {
      "cell_type": "code",
      "metadata": {
        "id": "877yiobHvCcm",
        "colab_type": "code",
        "colab": {}
      },
      "source": [
        ""
      ],
      "execution_count": 0,
      "outputs": []
    }
  ]
}